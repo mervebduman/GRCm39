{
 "cells": [
  {
   "cell_type": "markdown",
   "id": "ac6afa0e",
   "metadata": {},
   "source": [
    "# Data Exploration"
   ]
  },
  {
   "cell_type": "markdown",
   "id": "66fb07aa",
   "metadata": {},
   "source": [
    "To get the data:"
   ]
  },
  {
   "cell_type": "code",
   "execution_count": 3,
   "id": "2ccba44f",
   "metadata": {},
   "outputs": [],
   "source": [
    "data = \"http://ftp.ebi.ac.uk/pub/databases/gencode/Gencode_mouse/release_M28/gencode.vM28.annotation.gtf.gz\""
   ]
  },
  {
   "cell_type": "code",
   "execution_count": 8,
   "id": "f0d9f57c",
   "metadata": {},
   "outputs": [],
   "source": [
    "import shutil\n",
    "import urllib.request as request\n",
    "from contextlib import closing\n",
    "\n",
    "with closing(request.urlopen(data)) as r:\n",
    "    with open('gencode.vM28.annotation.gtf.gz', 'wb') as f:\n",
    "        shutil.copyfileobj(r, f)"
   ]
  },
  {
   "cell_type": "code",
   "execution_count": null,
   "id": "76d8bb6b",
   "metadata": {},
   "outputs": [],
   "source": [
    "# import gzip\n",
    "# with gzip.open('file.txt.gz', 'rb') as f:\n",
    "#     file_content = f.read()"
   ]
  }
 ],
 "metadata": {
  "kernelspec": {
   "display_name": "Python 3 (ipykernel)",
   "language": "python",
   "name": "python3"
  },
  "language_info": {
   "codemirror_mode": {
    "name": "ipython",
    "version": 3
   },
   "file_extension": ".py",
   "mimetype": "text/x-python",
   "name": "python",
   "nbconvert_exporter": "python",
   "pygments_lexer": "ipython3",
   "version": "3.8.8"
  }
 },
 "nbformat": 4,
 "nbformat_minor": 5
}
